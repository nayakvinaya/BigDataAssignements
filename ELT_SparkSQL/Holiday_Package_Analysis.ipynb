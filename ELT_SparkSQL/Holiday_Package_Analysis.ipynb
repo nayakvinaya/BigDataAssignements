{
 "cells": [
  {
   "cell_type": "markdown",
   "metadata": {},
   "source": [
    "# <center> **M3.2 ELT and Spark SQL**</center>\n",
    "\n",
    "### <p style=\"color:purple;\"> Submission by Team Supreme : Raghuveer Karrotu , Vinaya Rajaram Nayak, Arivarasan Ramasamy, Gayathri Shanmuga Sundaram \n",
    " \n",
    "### <p style=\"color:purple;\"> Assignment Description : \n",
    "### <p style=\"color:purple;\">Load the data into a spark dataframe , Show the schema, and make any necessary changes to the data schema, Conduct any transformations, Store the data into a persistent table and Create a temp view of the data\n",
    "\n",
    "# <center> <p style=\"color:green;\"> **Holiday Package Analysis**</p>  </center>  \n",
    "#### <p style=\"color:cyan;\">Aim: To predict which customer is more likely to purchase the newly introduced travel package so that company could make its marketing expenditure more efficient.  </p> \n",
    "\n",
    "#### <p style=\"color:cyan;\">Dataset Description : The dataset we use in this analysis is from Kaggle which was obtained from “Travel.com” website. Our dataset includes various customer demographics and company features like the following \n",
    "##### CustomerID : Unique customer Id\n",
    "##### ProdTaken : This our target variable which says whether the customer purchased the product pitched.\n",
    "##### Age : Age of the customer \n",
    "##### TypeofContact : How customer was contacted (Company Invited or Self Inquiry) \n",
    "##### CityTier : City tier depends on the development of a city, population, facilities, and living standards. \n",
    "##### DurationOfPitch : Duration of the pitch by a salesperson to the customer,\n",
    "##### Occupation : Occupation of the customer\n",
    "##### Gender : Gender of the customer\n",
    "##### NumberOfPersonVisiting : Total number of persons planning to take the trip with the customer\n",
    "##### NumberOfFollowups : Total number of follow-ups has been done by the salesperson after the sales pitch\n",
    "##### ProductPitched : Product pitched by the salesperson\n",
    "##### PreferredPropertyStar : Preferred hotel property rating by customer\n",
    "##### MaritalStatus : Marital status of customer\n",
    "##### NumberOfTrips : Average number of trips in a year by customer\n",
    "##### Passport : The customer has a passport or not (0: No, 1: Yes)\n",
    "##### PitchSatisfactionScore : Sales pitch satisfaction score\n",
    "##### OwnCar : Whether the customers own a car or not (0: No, 1: Yes)\n",
    "##### NumberOfChildrenVisiting : Total number of children with age less than 5 planning to take the trip with the customer\n",
    "##### Designation : Designation of the customer in the current organization\n",
    "##### MonthlyIncome : Gross monthly income of the customer\n",
    "</p> \n"
   ]
  },
  {
   "cell_type": "code",
   "execution_count": 1,
   "metadata": {},
   "outputs": [
    {
     "name": "stderr",
     "output_type": "stream",
     "text": [
      "Using Spark's default log4j profile: org/apache/spark/log4j-defaults.properties\n",
      "Setting default log level to \"WARN\".\n",
      "To adjust logging level use sc.setLogLevel(newLevel). For SparkR, use setLogLevel(newLevel).\n",
      "23/04/16 17:55:03 WARN NativeCodeLoader: Unable to load native-hadoop library for your platform... using builtin-java classes where applicable\n"
     ]
    },
    {
     "name": "stdout",
     "output_type": "stream",
     "text": [
      "Spark Session WebUI Port: 4040\n"
     ]
    }
   ],
   "source": [
    "import findspark\n",
    "findspark.init()\n",
    "\n",
    "from pyspark.sql import SparkSession;\n",
    "\n",
    "spark = SparkSession.builder.master(\"local[4]\").appName(\"ISM6562 Spark Assignment App\").getOrCreate();\n",
    "\n",
    "# Let's get the SparkContext object. It's the entry point to the Spark API. It's created when you create a sparksession\n",
    "sc = spark.sparkContext  \n",
    "\n",
    "# note: If you have multiple spark sessions running (like from a previous notebook you've run), \n",
    "# this spark session webUI will be on a different port than the default (4040). One way to \n",
    "# identify this part is with the following line. If there was only one spark session running, \n",
    "# this will be 4040. If it's higher, it means there are still other spark sesssions still running.\n",
    "spark_session_port = spark.sparkContext.uiWebUrl.split(\":\")[-1]\n",
    "print(\"Spark Session WebUI Port: \" + spark_session_port)"
   ]
  },
  {
   "cell_type": "code",
   "execution_count": 2,
   "metadata": {},
   "outputs": [],
   "source": [
    "# this will set the log level to ERROR. This will hide the INFO or WARNING messages that are printed out by default. If you want to see them, set this to INFO or WARN.\n",
    "sc.setLogLevel(\"ERROR\") "
   ]
  },
  {
   "cell_type": "code",
   "execution_count": 3,
   "metadata": {},
   "outputs": [
    {
     "data": {
      "text/html": [
       "\n",
       "            <div>\n",
       "                <p><b>SparkSession - in-memory</b></p>\n",
       "                \n",
       "        <div>\n",
       "            <p><b>SparkContext</b></p>\n",
       "\n",
       "            <p><a href=\"http://vinayas-air.lan:4040\">Spark UI</a></p>\n",
       "\n",
       "            <dl>\n",
       "              <dt>Version</dt>\n",
       "                <dd><code>v3.2.1</code></dd>\n",
       "              <dt>Master</dt>\n",
       "                <dd><code>local[4]</code></dd>\n",
       "              <dt>AppName</dt>\n",
       "                <dd><code>ISM6562 Spark Assignment App</code></dd>\n",
       "            </dl>\n",
       "        </div>\n",
       "        \n",
       "            </div>\n",
       "        "
      ],
      "text/plain": [
       "<pyspark.sql.session.SparkSession at 0x7ff66a6bab90>"
      ]
     },
     "execution_count": 3,
     "metadata": {},
     "output_type": "execute_result"
    }
   ],
   "source": [
    "spark"
   ]
  },
  {
   "cell_type": "markdown",
   "metadata": {},
   "source": [
    "## Loading our data into spark dataframe. "
   ]
  },
  {
   "cell_type": "code",
   "execution_count": 4,
   "metadata": {},
   "outputs": [
    {
     "name": "stdout",
     "output_type": "stream",
     "text": [
      "+----------+---------+----+---------------+--------+---------------+--------------+------+----------------------+-----------------+--------------+---------------------+-------------+-------------+--------+----------------------+------+------------------------+--------------+-------------+\n",
      "|CustomerID|ProdTaken| Age|  TypeofContact|CityTier|DurationOfPitch|    Occupation|Gender|NumberOfPersonVisiting|NumberOfFollowups|ProductPitched|PreferredPropertyStar|MaritalStatus|NumberOfTrips|Passport|PitchSatisfactionScore|OwnCar|NumberOfChildrenVisiting|   Designation|MonthlyIncome|\n",
      "+----------+---------+----+---------------+--------+---------------+--------------+------+----------------------+-----------------+--------------+---------------------+-------------+-------------+--------+----------------------+------+------------------------+--------------+-------------+\n",
      "|    200000|        1|  41|   Self Enquiry|       3|              6|      Salaried|Female|                     3|                3|        Deluxe|                    3|       Single|            1|       1|                     2|     1|                       0|       Manager|        20993|\n",
      "|    200001|        0|  49|Company Invited|       1|             14|      Salaried|  Male|                     3|                4|        Deluxe|                    4|     Divorced|            2|       0|                     3|     1|                       2|       Manager|        20130|\n",
      "|    200002|        1|  37|   Self Enquiry|       1|              8|   Free Lancer|  Male|                     3|                4|         Basic|                    3|       Single|            7|       1|                     3|     0|                       0|     Executive|        17090|\n",
      "|    200003|        0|  33|Company Invited|       1|              9|      Salaried|Female|                     2|                3|         Basic|                    3|     Divorced|            2|       1|                     5|     1|                       1|     Executive|        17909|\n",
      "|    200004|        0|null|   Self Enquiry|       1|              8|Small Business|  Male|                     2|                3|         Basic|                    4|     Divorced|            1|       0|                     5|     1|                       0|     Executive|        18468|\n",
      "|    200005|        0|  32|Company Invited|       1|              8|      Salaried|  Male|                     3|                3|         Basic|                    3|       Single|            1|       0|                     5|     1|                       1|     Executive|        18068|\n",
      "|    200006|        0|  59|   Self Enquiry|       1|              9|Small Business|Female|                     2|                2|         Basic|                    5|     Divorced|            5|       1|                     2|     1|                       1|     Executive|        17670|\n",
      "|    200007|        0|  30|   Self Enquiry|       1|             30|      Salaried|  Male|                     3|                3|         Basic|                    3|      Married|            2|       0|                     2|     0|                       1|     Executive|        17693|\n",
      "|    200008|        0|  38|Company Invited|       1|             29|      Salaried|  Male|                     2|                4|      Standard|                    3|    Unmarried|            1|       0|                     3|     0|                       0|Senior Manager|        24526|\n",
      "|    200009|        0|  36|   Self Enquiry|       1|             33|Small Business|  Male|                     3|                3|        Deluxe|                    3|     Divorced|            7|       0|                     3|     1|                       0|       Manager|        20237|\n",
      "|    200010|        0|  35|   Self Enquiry|       1|             22|Small Business|  Male|                     2|                2|         Basic|                    4|     Divorced|            1|       0|                     3|     1|                       1|     Executive|        17426|\n",
      "|    200011|        0|null|   Self Enquiry|       1|             21|      Salaried|Female|                     2|                4|        Deluxe|                    3|       Single|            1|       1|                     3|     0|                       0|       Manager|         null|\n",
      "|    200012|        0|  31|   Self Enquiry|       1|             32|      Salaried|  Male|                     2|                3|         Basic|                    3|      Married|            2|       0|                     3|     0|                       1|     Executive|        17911|\n",
      "|    200013|        0|  34|   Self Enquiry|       1|             25|Small Business|  Male|                     3|                3|         Basic|                    3|      Married|            1|       0|                     3|     0|                       2|     Executive|        17661|\n",
      "|    200014|        1|  28|   Self Enquiry|       1|             30|      Salaried|  Male|                     2|                4|         Basic|                    3|       Single|            6|       1|                     2|     0|                       0|     Executive|        17028|\n",
      "|    200015|        0|  29|   Self Enquiry|       1|             27|      Salaried|Female|                     2|                2|      Standard|                    5|      Married|            2|       0|                     5|     1|                       1|Senior Manager|        24980|\n",
      "|    200016|        0|  32|   Self Enquiry|       1|             11|      Salaried|  Male|                     3|                2|         Basic|                    4|      Married|            1|       1|                     2|     1|                       0|     Executive|        18298|\n",
      "|    200017|        0|  22|Company Invited|       1|             22|Small Business|  Male|                     3|                2|         Basic|                    3|      Married|            2|       1|                     3|     0|                       0|     Executive|        17935|\n",
      "|    200018|        0|  53|   Self Enquiry|       3|              8|      Salaried|Female|                     3|                4|  Super Deluxe|                    3|     Divorced|            3|       0|                     3|     1|                       0|           AVP|        30427|\n",
      "|    200019|        0|null|   Self Enquiry|       1|              8|      Salaried|  Male|                     2|                3|         Basic|                    3|       Single|            6|       1|                     4|     0|                       1|     Executive|         null|\n",
      "+----------+---------+----+---------------+--------+---------------+--------------+------+----------------------+-----------------+--------------+---------------------+-------------+-------------+--------+----------------------+------+------------------------+--------------+-------------+\n",
      "only showing top 20 rows\n",
      "\n"
     ]
    }
   ],
   "source": [
    "# Load CSV file\n",
    "df_spark = spark.read.csv(\"Travel.csv\", header=True, inferSchema=True)\n",
    "df_spark.show()"
   ]
  },
  {
   "cell_type": "markdown",
   "metadata": {},
   "source": [
    "# Data Exploration and transformations "
   ]
  },
  {
   "cell_type": "code",
   "execution_count": 5,
   "metadata": {},
   "outputs": [
    {
     "name": "stdout",
     "output_type": "stream",
     "text": [
      "root\n",
      " |-- CustomerID: integer (nullable = true)\n",
      " |-- ProdTaken: integer (nullable = true)\n",
      " |-- Age: integer (nullable = true)\n",
      " |-- TypeofContact: string (nullable = true)\n",
      " |-- CityTier: integer (nullable = true)\n",
      " |-- DurationOfPitch: integer (nullable = true)\n",
      " |-- Occupation: string (nullable = true)\n",
      " |-- Gender: string (nullable = true)\n",
      " |-- NumberOfPersonVisiting: integer (nullable = true)\n",
      " |-- NumberOfFollowups: integer (nullable = true)\n",
      " |-- ProductPitched: string (nullable = true)\n",
      " |-- PreferredPropertyStar: integer (nullable = true)\n",
      " |-- MaritalStatus: string (nullable = true)\n",
      " |-- NumberOfTrips: integer (nullable = true)\n",
      " |-- Passport: integer (nullable = true)\n",
      " |-- PitchSatisfactionScore: integer (nullable = true)\n",
      " |-- OwnCar: integer (nullable = true)\n",
      " |-- NumberOfChildrenVisiting: integer (nullable = true)\n",
      " |-- Designation: string (nullable = true)\n",
      " |-- MonthlyIncome: integer (nullable = true)\n",
      "\n"
     ]
    }
   ],
   "source": [
    "df_spark.printSchema()"
   ]
  },
  {
   "cell_type": "markdown",
   "metadata": {},
   "source": [
    "# Visualizing data"
   ]
  },
  {
   "cell_type": "code",
   "execution_count": 6,
   "metadata": {},
   "outputs": [
    {
     "data": {
      "text/plain": [
       "<Axes: xlabel='DurationOfPitch', ylabel='count'>"
      ]
     },
     "execution_count": 6,
     "metadata": {},
     "output_type": "execute_result"
    },
    {
     "data": {
      "image/png": "[encoded data removed]",
      "text/plain": [
       "<Figure size 640x480 with 1 Axes>"
      ]
     },
     "metadata": {},
     "output_type": "display_data"
    }
   ],
   "source": [
    "import seaborn as sns\n",
    "import matplotlib.pyplot as plt\n",
    "import pandas as pd\n",
    "\n",
    "# Assuming df_spark is the Spark DataFrame containing the column of interest\n",
    "# Convert Spark DataFrame to Pandas DataFrame\n",
    "df_pandas = df_spark.toPandas()\n",
    "\n",
    "sns.countplot(x='DurationOfPitch', data=df_pandas) # checking distribution of \"durationofpitch\""
   ]
  },
  {
   "cell_type": "markdown",
   "metadata": {},
   "source": [
    "# Finding missing values"
   ]
  },
  {
   "cell_type": "code",
   "execution_count": 7,
   "metadata": {},
   "outputs": [
    {
     "name": "stdout",
     "output_type": "stream",
     "text": [
      "Columns with missing values:\n",
      "Age\n",
      "TypeofContact\n",
      "DurationOfPitch\n",
      "NumberOfFollowups\n",
      "PreferredPropertyStar\n",
      "NumberOfTrips\n",
      "NumberOfChildrenVisiting\n",
      "MonthlyIncome\n"
     ]
    }
   ],
   "source": [
    "from pyspark.sql.functions import col\n",
    "\n",
    "# Find columns with missing values\n",
    "columns_with_missing_values = [column for column in df_spark.columns if df_spark.filter(col(column).isNull()).count() > 0]\n",
    "\n",
    "# Print columns with missing values\n",
    "print(\"Columns with missing values:\")\n",
    "for column in columns_with_missing_values:\n",
    "    print(column)\n"
   ]
  },
  {
   "cell_type": "markdown",
   "metadata": {},
   "source": [
    "# Imputing missing values"
   ]
  },
  {
   "cell_type": "code",
   "execution_count": 8,
   "metadata": {},
   "outputs": [
    {
     "name": "stdout",
     "output_type": "stream",
     "text": [
      "+---------------+-----+\n",
      "|  TypeofContact|count|\n",
      "+---------------+-----+\n",
      "|           null|   25|\n",
      "|   Self Enquiry| 3444|\n",
      "|Company Invited| 1419|\n",
      "+---------------+-----+\n",
      "\n"
     ]
    }
   ],
   "source": [
    "from pyspark.sql.functions import col\n",
    "\n",
    "# Group by the column and apply the count() function\n",
    "count_df = df_spark.groupBy(\"TypeofContact\").count()\n",
    "\n",
    "# Show the resulting counts\n",
    "count_df.show()"
   ]
  },
  {
   "cell_type": "markdown",
   "metadata": {},
   "source": [
    "Since, TypeofContact column is in string object, imputing with the most frequent value"
   ]
  },
  {
   "cell_type": "code",
   "execution_count": 9,
   "metadata": {},
   "outputs": [],
   "source": [
    "df_spark = df_spark.fillna(\"Self Enquiry\", subset=[\"TypeofContact\"])"
   ]
  },
  {
   "cell_type": "markdown",
   "metadata": {},
   "source": [
    "Imputing with missing value with median value for numeric values"
   ]
  },
  {
   "cell_type": "code",
   "execution_count": 10,
   "metadata": {},
   "outputs": [],
   "source": [
    "from pyspark.sql.functions import col\n",
    "from pyspark.sql.functions import percentile_approx\n",
    "from pyspark.sql.functions import when\n",
    "\n",
    "# Iterate over columns with missing values\n",
    "for column in columns_with_missing_values:\n",
    "    # Calculate median of the column\n",
    "    median_value = df_spark.select(column).agg(percentile_approx(column, 0.5)).collect()[0][0]\n",
    "    if median_value is not None:\n",
    "    # Round median_value to nearest integer\n",
    "        median_value_rounded = int(round(median_value))\n",
    "    else:\n",
    "        median_value_rounded = 0\n",
    "    \n",
    "    # Impute missing values with median value\n",
    "    df_spark = df_spark.withColumn(column, when(col(column).isNull(), median_value_rounded).otherwise(col(column)))\n"
   ]
  },
  {
   "cell_type": "code",
   "execution_count": 11,
   "metadata": {},
   "outputs": [
    {
     "name": "stdout",
     "output_type": "stream",
     "text": [
      "Columns with missing values:\n"
     ]
    }
   ],
   "source": [
    "# verifying if all missing values were imputed\n",
    "columns_with_missing_values = [column for column in df_spark.columns if df_spark.filter(col(column).isNull()).count() > 0]\n",
    "\n",
    "# Print columns with missing values\n",
    "print(\"Columns with missing values:\")\n",
    "for column in columns_with_missing_values:\n",
    "    print(column)"
   ]
  },
  {
   "cell_type": "code",
   "execution_count": 12,
   "metadata": {},
   "outputs": [],
   "source": [
    "# Export DataFrame to CSV\n",
    "df_spark.write.csv(\"processedfile.csv\")"
   ]
  },
  {
   "cell_type": "code",
   "execution_count": 13,
   "metadata": {},
   "outputs": [
    {
     "name": "stdout",
     "output_type": "stream",
     "text": [
      "+----------+---------+---+---------------+--------+---------------+--------------+------+----------------------+-----------------+--------------+---------------------+-------------+-------------+--------+----------------------+------+------------------------+--------------+-------------+\n",
      "|CustomerID|ProdTaken|Age|  TypeofContact|CityTier|DurationOfPitch|    Occupation|Gender|NumberOfPersonVisiting|NumberOfFollowups|ProductPitched|PreferredPropertyStar|MaritalStatus|NumberOfTrips|Passport|PitchSatisfactionScore|OwnCar|NumberOfChildrenVisiting|   Designation|MonthlyIncome|\n",
      "+----------+---------+---+---------------+--------+---------------+--------------+------+----------------------+-----------------+--------------+---------------------+-------------+-------------+--------+----------------------+------+------------------------+--------------+-------------+\n",
      "|    200000|        1| 41|   Self Enquiry|       3|              6|      Salaried|Female|                     3|                3|        Deluxe|                    3|       Single|            1|       1|                     2|     1|                       0|       Manager|        20993|\n",
      "|    200001|        0| 49|Company Invited|       1|             14|      Salaried|  Male|                     3|                4|        Deluxe|                    4|     Divorced|            2|       0|                     3|     1|                       2|       Manager|        20130|\n",
      "|    200002|        1| 37|   Self Enquiry|       1|              8|   Free Lancer|  Male|                     3|                4|         Basic|                    3|       Single|            7|       1|                     3|     0|                       0|     Executive|        17090|\n",
      "|    200003|        0| 33|Company Invited|       1|              9|      Salaried|Female|                     2|                3|         Basic|                    3|     Divorced|            2|       1|                     5|     1|                       1|     Executive|        17909|\n",
      "|    200004|        0| 36|   Self Enquiry|       1|              8|Small Business|  Male|                     2|                3|         Basic|                    4|     Divorced|            1|       0|                     5|     1|                       0|     Executive|        18468|\n",
      "|    200005|        0| 32|Company Invited|       1|              8|      Salaried|  Male|                     3|                3|         Basic|                    3|       Single|            1|       0|                     5|     1|                       1|     Executive|        18068|\n",
      "|    200006|        0| 59|   Self Enquiry|       1|              9|Small Business|Female|                     2|                2|         Basic|                    5|     Divorced|            5|       1|                     2|     1|                       1|     Executive|        17670|\n",
      "|    200007|        0| 30|   Self Enquiry|       1|             30|      Salaried|  Male|                     3|                3|         Basic|                    3|      Married|            2|       0|                     2|     0|                       1|     Executive|        17693|\n",
      "|    200008|        0| 38|Company Invited|       1|             29|      Salaried|  Male|                     2|                4|      Standard|                    3|    Unmarried|            1|       0|                     3|     0|                       0|Senior Manager|        24526|\n",
      "|    200009|        0| 36|   Self Enquiry|       1|             33|Small Business|  Male|                     3|                3|        Deluxe|                    3|     Divorced|            7|       0|                     3|     1|                       0|       Manager|        20237|\n",
      "|    200010|        0| 35|   Self Enquiry|       1|             22|Small Business|  Male|                     2|                2|         Basic|                    4|     Divorced|            1|       0|                     3|     1|                       1|     Executive|        17426|\n",
      "|    200011|        0| 36|   Self Enquiry|       1|             21|      Salaried|Female|                     2|                4|        Deluxe|                    3|       Single|            1|       1|                     3|     0|                       0|       Manager|        22347|\n",
      "|    200012|        0| 31|   Self Enquiry|       1|             32|      Salaried|  Male|                     2|                3|         Basic|                    3|      Married|            2|       0|                     3|     0|                       1|     Executive|        17911|\n",
      "|    200013|        0| 34|   Self Enquiry|       1|             25|Small Business|  Male|                     3|                3|         Basic|                    3|      Married|            1|       0|                     3|     0|                       2|     Executive|        17661|\n",
      "|    200014|        1| 28|   Self Enquiry|       1|             30|      Salaried|  Male|                     2|                4|         Basic|                    3|       Single|            6|       1|                     2|     0|                       0|     Executive|        17028|\n",
      "|    200015|        0| 29|   Self Enquiry|       1|             27|      Salaried|Female|                     2|                2|      Standard|                    5|      Married|            2|       0|                     5|     1|                       1|Senior Manager|        24980|\n",
      "|    200016|        0| 32|   Self Enquiry|       1|             11|      Salaried|  Male|                     3|                2|         Basic|                    4|      Married|            1|       1|                     2|     1|                       0|     Executive|        18298|\n",
      "|    200017|        0| 22|Company Invited|       1|             22|Small Business|  Male|                     3|                2|         Basic|                    3|      Married|            2|       1|                     3|     0|                       0|     Executive|        17935|\n",
      "|    200018|        0| 53|   Self Enquiry|       3|              8|      Salaried|Female|                     3|                4|  Super Deluxe|                    3|     Divorced|            3|       0|                     3|     1|                       0|           AVP|        30427|\n",
      "|    200019|        0| 36|   Self Enquiry|       1|              8|      Salaried|  Male|                     2|                3|         Basic|                    3|       Single|            6|       1|                     4|     0|                       1|     Executive|        22347|\n",
      "+----------+---------+---+---------------+--------+---------------+--------------+------+----------------------+-----------------+--------------+---------------------+-------------+-------------+--------+----------------------+------+------------------------+--------------+-------------+\n",
      "only showing top 20 rows\n",
      "\n"
     ]
    }
   ],
   "source": [
    "df_spark.show(20)"
   ]
  },
  {
   "cell_type": "markdown",
   "metadata": {},
   "source": [
    "# Store the data into a persistent table and create a temp view of the data\n"
   ]
  },
  {
   "cell_type": "code",
   "execution_count": 14,
   "metadata": {},
   "outputs": [
    {
     "data": {
      "text/plain": [
       "DataFrame[]"
      ]
     },
     "execution_count": 14,
     "metadata": {},
     "output_type": "execute_result"
    }
   ],
   "source": [
    "# Create a database\n",
    "spark.sql(\"CREATE DATABASE IF NOT EXISTS Travel\")\n",
    "\n",
    "# Use the database\n",
    "spark.sql(\"USE Travel\")\n",
    "\n"
   ]
  },
  {
   "cell_type": "code",
   "execution_count": 15,
   "metadata": {},
   "outputs": [
    {
     "name": "stderr",
     "output_type": "stream",
     "text": [
      "                                                                                \r"
     ]
    }
   ],
   "source": [
    "# Store the data into a persistent table in the Travel db\n",
    "df_spark.write.saveAsTable(\"travel_information\")\n"
   ]
  },
  {
   "cell_type": "code",
   "execution_count": 16,
   "metadata": {},
   "outputs": [],
   "source": [
    "# Create a temporary view of the data\n",
    "df_spark.createOrReplaceTempView(\"travel_information_view\")"
   ]
  },
  {
   "cell_type": "code",
   "execution_count": 17,
   "metadata": {},
   "outputs": [
    {
     "name": "stdout",
     "output_type": "stream",
     "text": [
      "Table exists in the created database.\n"
     ]
    }
   ],
   "source": [
    "# Verify if the table exists in the created database\n",
    "check = spark.sql(\"SHOW TABLES\")\n",
    "if check.filter(check.tableName == \"travel_information_view\").count() > 0:\n",
    "    print(\"Table exists in the created database.\")"
   ]
  },
  {
   "cell_type": "markdown",
   "metadata": {},
   "source": [
    "# Now let us find some insights by using the aggregation.\n",
    "#### <p style=\"color:orange;\"> 1. The average age of customers </p>\n",
    "<p style=\"color:orange;\">First we are interested to know the average age of customers </p>\n"
   ]
  },
  {
   "cell_type": "code",
   "execution_count": 18,
   "metadata": {},
   "outputs": [
    {
     "name": "stdout",
     "output_type": "stream",
     "text": [
      "+-----------------+\n",
      "|          avg_age|\n",
      "+-----------------+\n",
      "|37.54725859247136|\n",
      "+-----------------+\n",
      "\n"
     ]
    }
   ],
   "source": [
    "avg_age_result = spark.sql(\"SELECT AVG(Age) as avg_age FROM travel_information_view\").show()"
   ]
  },
  {
   "cell_type": "markdown",
   "metadata": {},
   "source": [
    "#### <p style=\"color:orange;\"> 2. Occupation wise display </p>\n",
    "<p style=\"color:orange;\">Next let us calculate  the number of customers who have taken a product in  each occupation. We calculate the total number of customers and no of customers who bought the product in each occupation.</p>\n"
   ]
  },
  {
   "cell_type": "code",
   "execution_count": 19,
   "metadata": {},
   "outputs": [
    {
     "name": "stdout",
     "output_type": "stream",
     "text": [
      "+--------------+---------------+-----------------------+\n",
      "|    Occupation|total_customers|customers_taken_product|\n",
      "+--------------+---------------+-----------------------+\n",
      "|      Salaried|           2368|                    414|\n",
      "|Large Business|            434|                    120|\n",
      "|   Free Lancer|              2|                      2|\n",
      "|Small Business|           2084|                    384|\n",
      "+--------------+---------------+-----------------------+\n",
      "\n"
     ]
    }
   ],
   "source": [
    "total_result = spark.sql(\"\"\"\n",
    "    SELECT Occupation, COUNT(*) AS total_customers, SUM(ProdTaken) AS customers_taken_product\n",
    "    FROM travel_information_view\n",
    "    GROUP BY Occupation\n",
    "\"\"\").show()"
   ]
  },
  {
   "cell_type": "markdown",
   "metadata": {},
   "source": [
    "#### <p style=\"color:orange;\"> 3. Occupation wise average age and monthly income  </p>\n",
    "<p style=\"color:orange;\">Now let us calculate the average age and monthly income for each occupation. We have grouped the avg age and monthlyincome by occupation for the below results </p> \n"
   ]
  },
  {
   "cell_type": "code",
   "execution_count": 20,
   "metadata": {},
   "outputs": [
    {
     "name": "stdout",
     "output_type": "stream",
     "text": [
      "+--------------+------------------+------------------+\n",
      "|    Occupation|           avg_age|avg_monthly_income|\n",
      "+--------------+------------------+------------------+\n",
      "|      Salaried|37.569679054054056| 23591.93918918919|\n",
      "|Large Business| 36.60829493087557|22859.873271889403|\n",
      "|   Free Lancer|              37.5|           18929.0|\n",
      "|Small Business| 37.71737044145873|23672.031669865642|\n",
      "+--------------+------------------+------------------+\n",
      "\n"
     ]
    }
   ],
   "source": [
    "ocupation_results = spark.sql(\"\"\"WITH cte AS (\n",
    "    SELECT Occupation, AVG(Age) AS avg_age, AVG(`MonthlyIncome`) AS avg_monthly_income\n",
    "    FROM travel_information_view\n",
    "    GROUP BY Occupation\n",
    ")\n",
    "SELECT Occupation, avg_age, avg_monthly_income\n",
    "FROM cte\"\"\").show()"
   ]
  },
  {
   "cell_type": "markdown",
   "metadata": {},
   "source": [
    "#### <p style=\"color:orange;\"> 4. Percentage of customers who bought the package pitched. </p>\n",
    "<p style=\"color:orange;\">Finally let us calculate the the percentage of customers who have taken a product based on the product pitched. For this we selected the product pitched, count of customers and sum of the prodtaken and then grouped by product pitched to get the necessary results </p>  \n"
   ]
  },
  {
   "cell_type": "code",
   "execution_count": 21,
   "metadata": {},
   "outputs": [
    {
     "name": "stdout",
     "output_type": "stream",
     "text": [
      "+--------------+---------------+-----------------------+------------------------+\n",
      "|ProductPitched|total_customers|customers_taken_product|percentage_taken_product|\n",
      "+--------------+---------------+-----------------------+------------------------+\n",
      "|         Basic|           1842|                    552|      29.967426710097723|\n",
      "|      Standard|            742|                    124|      16.711590296495956|\n",
      "|        Deluxe|           1732|                    204|      11.778290993071593|\n",
      "|          King|            230|                     20|       8.695652173913043|\n",
      "|  Super Deluxe|            342|                     20|       5.847953216374268|\n",
      "+--------------+---------------+-----------------------+------------------------+\n",
      "\n"
     ]
    }
   ],
   "source": [
    "purchased_percent_result = spark.sql(\"\"\"\n",
    "    SELECT ProductPitched, COUNT(*) AS total_customers, SUM(ProdTaken) AS customers_taken_product,\n",
    "           (SUM(ProdTaken) / COUNT(*) * 100) AS percentage_taken_product\n",
    "    FROM travel_information_view\n",
    "    GROUP BY ProductPitched\n",
    "    ORDER BY percentage_taken_product DESC\n",
    "\"\"\").show()"
   ]
  }
 ],
 "metadata": {
  "kernelspec": {
   "display_name": "Python 3.10.10 ('spark')",
   "language": "python",
   "name": "python3"
  },
  "language_info": {
   "codemirror_mode": {
    "name": "ipython",
    "version": 3
   },
   "file_extension": ".py",
   "mimetype": "text/x-python",
   "name": "python",
   "nbconvert_exporter": "python",
   "pygments_lexer": "ipython3",
   "version": "3.10.10"
  },
  "orig_nbformat": 4,
  "vscode": {
   "interpreter": {
    "hash": "bfce53077d9e8fda4b8fd04cca23c6684f3f84a99b597f20983689adf0f42822"
   }
  }
 },
 "nbformat": 4,
 "nbformat_minor": 2
}
