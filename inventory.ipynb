{
 "cells": [
  {
   "attachments": {},
   "cell_type": "markdown",
   "metadata": {},
   "source": [
    "# Module 1.4 Assignment - Cassandra python programming\n",
    "## Vinaya R Nayak - U74501808\n",
    " \n",
    "### Description : Connect to cassandra db, create keyspace, tbles , populate values into tables and display the results of products at a particular location"
   ]
  },
  {
   "cell_type": "code",
   "execution_count": 1,
   "metadata": {},
   "outputs": [],
   "source": [
    "import pandas as pd\n",
    "from cassandra.cluster import Cluster"
   ]
  },
  {
   "attachments": {},
   "cell_type": "markdown",
   "metadata": {},
   "source": [
    "### load data "
   ]
  },
  {
   "cell_type": "code",
   "execution_count": 2,
   "metadata": {},
   "outputs": [
    {
     "data": {
      "text/html": [
       "<div>\n",
       "<style scoped>\n",
       "    .dataframe tbody tr th:only-of-type {\n",
       "        vertical-align: middle;\n",
       "    }\n",
       "\n",
       "    .dataframe tbody tr th {\n",
       "        vertical-align: top;\n",
       "    }\n",
       "\n",
       "    .dataframe thead th {\n",
       "        text-align: right;\n",
       "    }\n",
       "</style>\n",
       "<table border=\"1\" class=\"dataframe\">\n",
       "  <thead>\n",
       "    <tr style=\"text-align: right;\">\n",
       "      <th></th>\n",
       "      <th>sku</th>\n",
       "      <th>name</th>\n",
       "      <th>description</th>\n",
       "      <th>warehouse_num</th>\n",
       "    </tr>\n",
       "  </thead>\n",
       "  <tbody>\n",
       "    <tr>\n",
       "      <th>0</th>\n",
       "      <td>'PH01'</td>\n",
       "      <td>'Iphone11'</td>\n",
       "      <td>'Liquid Retina HD display'</td>\n",
       "      <td>101</td>\n",
       "    </tr>\n",
       "    <tr>\n",
       "      <th>1</th>\n",
       "      <td>'PH02'</td>\n",
       "      <td>'Iphone 12'</td>\n",
       "      <td>'Resolution of : 1792‑by‑828‑pixel resolution...</td>\n",
       "      <td>101</td>\n",
       "    </tr>\n",
       "    <tr>\n",
       "      <th>2</th>\n",
       "      <td>'LA01'</td>\n",
       "      <td>'HP pavilion'</td>\n",
       "      <td>'Windows 11 Home AMD Ryzen 5000 processors'</td>\n",
       "      <td>102</td>\n",
       "    </tr>\n",
       "    <tr>\n",
       "      <th>3</th>\n",
       "      <td>'LA04'</td>\n",
       "      <td>'MacBook M1'</td>\n",
       "      <td>'M1 includes Apple’s most advanced GPU. It be...</td>\n",
       "      <td>103</td>\n",
       "    </tr>\n",
       "    <tr>\n",
       "      <th>4</th>\n",
       "      <td>'TA01'</td>\n",
       "      <td>'Galaxy Tab 7 Lite'</td>\n",
       "      <td>'Light and Portable Sturdy Metal Frame 8MP Re...</td>\n",
       "      <td>104</td>\n",
       "    </tr>\n",
       "    <tr>\n",
       "      <th>5</th>\n",
       "      <td>'TA02'</td>\n",
       "      <td>'Galaxy Tab S7 FE 5G'</td>\n",
       "      <td>'Large Screen S PEN Multi-device Connectivity'</td>\n",
       "      <td>106</td>\n",
       "    </tr>\n",
       "    <tr>\n",
       "      <th>6</th>\n",
       "      <td>'TV01'</td>\n",
       "      <td>'One Plus TV'</td>\n",
       "      <td>'Smarter tv. Smarter Choice. Vision Comfort (...</td>\n",
       "      <td>101</td>\n",
       "    </tr>\n",
       "    <tr>\n",
       "      <th>7</th>\n",
       "      <td>'TV02'</td>\n",
       "      <td>'Samsung TV'</td>\n",
       "      <td>'The new Samsung Neo QLED QN90C delivers pris...</td>\n",
       "      <td>105</td>\n",
       "    </tr>\n",
       "  </tbody>\n",
       "</table>\n",
       "</div>"
      ],
      "text/plain": [
       "      sku                    name  \\\n",
       "0  'PH01'              'Iphone11'   \n",
       "1  'PH02'             'Iphone 12'   \n",
       "2  'LA01'           'HP pavilion'   \n",
       "3  'LA04'            'MacBook M1'   \n",
       "4  'TA01'     'Galaxy Tab 7 Lite'   \n",
       "5  'TA02'   'Galaxy Tab S7 FE 5G'   \n",
       "6  'TV01'           'One Plus TV'   \n",
       "7  'TV02'            'Samsung TV'   \n",
       "\n",
       "                                         description   warehouse_num  \n",
       "0                         'Liquid Retina HD display'             101  \n",
       "1   'Resolution of : 1792‑by‑828‑pixel resolution...             101  \n",
       "2        'Windows 11 Home AMD Ryzen 5000 processors'             102  \n",
       "3   'M1 includes Apple’s most advanced GPU. It be...             103  \n",
       "4   'Light and Portable Sturdy Metal Frame 8MP Re...             104  \n",
       "5     'Large Screen S PEN Multi-device Connectivity'             106  \n",
       "6   'Smarter tv. Smarter Choice. Vision Comfort (...             101  \n",
       "7   'The new Samsung Neo QLED QN90C delivers pris...             105  "
      ]
     },
     "execution_count": 2,
     "metadata": {},
     "output_type": "execute_result"
    }
   ],
   "source": [
    "df = pd.read_csv('./inventory.csv')\n",
    "df"
   ]
  },
  {
   "cell_type": "markdown",
   "metadata": {},
   "source": [
    "### connect to cassandra"
   ]
  },
  {
   "cell_type": "code",
   "execution_count": 3,
   "metadata": {},
   "outputs": [],
   "source": [
    "clstr = Cluster()\n",
    "session = clstr.connect()"
   ]
  },
  {
   "cell_type": "markdown",
   "metadata": {},
   "source": []
  },
  {
   "cell_type": "code",
   "execution_count": 4,
   "metadata": {},
   "outputs": [
    {
     "data": {
      "text/plain": [
       "<cassandra.cluster.ResultSet at 0xffff6f87e560>"
      ]
     },
     "execution_count": 4,
     "metadata": {},
     "output_type": "execute_result"
    }
   ],
   "source": [
    "session.execute(\"CREATE KEYSPACE IF NOT EXISTS m14 WITH REPLICATION = {'class':'SimpleStrategy', 'replication_factor':1}\")"
   ]
  },
  {
   "cell_type": "code",
   "execution_count": 7,
   "metadata": {},
   "outputs": [
    {
     "name": "stdout",
     "output_type": "stream",
     "text": [
      "finaltri\n",
      "m14\n",
      "system\n",
      "system_auth\n",
      "system_distributed\n",
      "system_schema\n",
      "system_traces\n",
      "system_views\n",
      "system_virtual_schema\n",
      "tri\n",
      "trial\n",
      "trials\n",
      "tris\n",
      "w04python\n"
     ]
    }
   ],
   "source": [
    "rows =session.execute(\"desc keyspaces\")\n",
    "for row in rows:\n",
    "    print(f\"{row[0]}\")"
   ]
  },
  {
   "cell_type": "code",
   "execution_count": 8,
   "metadata": {},
   "outputs": [
    {
     "data": {
      "text/plain": [
       "<cassandra.cluster.ResultSet at 0xffff6cf160e0>"
      ]
     },
     "execution_count": 8,
     "metadata": {},
     "output_type": "execute_result"
    }
   ],
   "source": [
    "session.execute(\"\"\"\n",
    "CREATE TABLE IF NOT EXISTS m14.inventory ( \n",
    "    sku TEXT, \n",
    "    name TEXT, \n",
    "    description TEXT, \n",
    "    warehouse_num INT, \n",
    "    PRIMARY KEY(sku)\n",
    ");\n",
    "\"\"\")"
   ]
  },
  {
   "cell_type": "code",
   "execution_count": 10,
   "metadata": {},
   "outputs": [],
   "source": [
    "for index, row in df.iterrows():\n",
    "    session.execute(f\"\"\"INSERT INTO m14.inventory(sku, name, description, warehouse_num)  VALUES ({row[0].strip()}, {row[1].strip()}, {row[2].strip()}, {row[3]});\"\"\")\n"
   ]
  },
  {
   "cell_type": "code",
   "execution_count": 13,
   "metadata": {},
   "outputs": [
    {
     "data": {
      "text/plain": [
       "<cassandra.cluster.ResultSet at 0xffff6d0d3fa0>"
      ]
     },
     "execution_count": 13,
     "metadata": {},
     "output_type": "execute_result"
    }
   ],
   "source": [
    "session.execute(\"CREATE INDEX IF NOT EXISTS ON m14.inventory (warehouse_num)\")"
   ]
  },
  {
   "cell_type": "code",
   "execution_count": 14,
   "metadata": {},
   "outputs": [
    {
     "name": "stdout",
     "output_type": "stream",
     "text": [
      "sku=TV01, name=One Plus TV, description=Smarter tv. Smarter Choice. Vision Comfort (TÜV Rheinland Certified) 24W Speakers with Dolby Audio, warehouse_num=101\n",
      "sku=PH01, name=Iphone11, description=Liquid Retina HD display, warehouse_num=101\n",
      "sku=PH02, name=Iphone 12, description=Resolution of : 1792‑by‑828‑pixel resolution at 326 ppi, warehouse_num=101\n"
     ]
    }
   ],
   "source": [
    "rows = session.execute(\"select (sku, name, description, warehouse_num) from m14.inventory where warehouse_num = 101\")\n",
    "for row in rows:\n",
    "    print(f\"sku={row[0][0]}, name={row[0][1]}, description={row[0][2]}, warehouse_num={row[0][3]}\")"
   ]
  }
 ],
 "metadata": {
  "kernelspec": {
   "display_name": "base",
   "language": "python",
   "name": "python3"
  },
  "language_info": {
   "codemirror_mode": {
    "name": "ipython",
    "version": 3
   },
   "file_extension": ".py",
   "mimetype": "text/x-python",
   "name": "python",
   "nbconvert_exporter": "python",
   "pygments_lexer": "ipython3",
   "version": "3.10.9"
  },
  "orig_nbformat": 4
 },
 "nbformat": 4,
 "nbformat_minor": 2
}
